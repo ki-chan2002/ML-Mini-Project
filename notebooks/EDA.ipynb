{
 "cells": [
  {
   "cell_type": "markdown",
   "metadata": {},
   "source": [
    "# **ORIGINAL update merge part4**"
   ]
  },
  {
   "cell_type": "markdown",
   "metadata": {},
   "source": [
    "# Mini-Project for Fundamentals of Machine Learning Course\n",
    "In this study, facial expression recognition was performed on the face images from the Facial Expression Recognition Challenge (FER2013) dataset.\n",
    "\n",
    "One motivation for representation learning is that learning algorithms can design features more effectively and efficiently than humans can. However, this challenge does not explicitly require entries to use representation learning. The dataset, assembled from the internet, is designed for facial expression classification.\n",
    "\n",
    "The data consists of grayscale images of faces, each measuring 48x48 pixels. The faces have been automatically aligned to be roughly centered and occupy a similar area within each image. The task is to categorize each face based on the emotion expressed, assigning it to one of seven categories (0=Angry, 1=Disgust, 2=Fear, 3=Happy, 4=Sad, 5=Surprise, 6=Neutral). The dataset contains a total of 35,887 examples."
   ]
  },
  {
   "cell_type": "markdown",
   "metadata": {},
   "source": [
    "## 1. Prerequisite\n",
    "This section provides some basic steps for accessing and visualizing the dataset."
   ]
  },
  {
   "cell_type": "code",
   "execution_count": 3,
   "metadata": {},
   "outputs": [],
   "source": [
    "import pandas as pd\n",
    "import numpy as np\n",
    "from matplotlib import pyplot as plt"
   ]
  },
  {
   "cell_type": "code",
   "execution_count": 4,
   "metadata": {},
   "outputs": [],
   "source": [
    "def parse_data(data: pd.DataFrame):\n",
    "    \"\"\"\n",
    "    Reads input dataframe then return arrays of images and labels\n",
    "    \"\"\"\n",
    "    image_array = np.zeros(shape=(len(data), 48, 48))\n",
    "    image_label = np.array(list(map(int, data['emotion'])))\n",
    "    \n",
    "    for i, row in enumerate(data.index):\n",
    "        image = np.fromstring(data.loc[row, 'pixels'], dtype=int, sep=' ')\n",
    "        image = np.reshape(image, (48, 48))\n",
    "        image_array[i] = image\n",
    "        \n",
    "    return image_array, image_label"
   ]
  },
  {
   "cell_type": "code",
   "execution_count": 5,
   "metadata": {},
   "outputs": [],
   "source": [
    "def show_img(images: np.ndarray, labels: np.ndarray):\n",
    "    \"\"\"\n",
    "    Visualize images and labels respectively\n",
    "    \"\"\"\n",
    "    _, axarr=plt.subplots(nrows=2, ncols=5, figsize=(18, 9))\n",
    "    axarr=axarr.flatten()\n",
    "    for idx, label in enumerate(labels[:10]):\n",
    "        axarr[idx].imshow(images[idx], cmap='gray')\n",
    "        axarr[idx].set_xticks([])\n",
    "        axarr[idx].set_yticks([])\n",
    "        axarr[idx].set_title(\"Label:{}\".format(label))"
   ]
  },
  {
   "cell_type": "code",
   "execution_count": 7,
   "metadata": {},
   "outputs": [
    {
     "data": {
      "text/html": [
       "<div>\n",
       "<style scoped>\n",
       "    .dataframe tbody tr th:only-of-type {\n",
       "        vertical-align: middle;\n",
       "    }\n",
       "\n",
       "    .dataframe tbody tr th {\n",
       "        vertical-align: top;\n",
       "    }\n",
       "\n",
       "    .dataframe thead th {\n",
       "        text-align: right;\n",
       "    }\n",
       "</style>\n",
       "<table border=\"1\" class=\"dataframe\">\n",
       "  <thead>\n",
       "    <tr style=\"text-align: right;\">\n",
       "      <th></th>\n",
       "      <th>emotion</th>\n",
       "      <th>pixels</th>\n",
       "    </tr>\n",
       "  </thead>\n",
       "  <tbody>\n",
       "    <tr>\n",
       "      <th>0</th>\n",
       "      <td>0</td>\n",
       "      <td>70 80 82 72 58 58 60 63 54 58 60 48 89 115 121...</td>\n",
       "    </tr>\n",
       "    <tr>\n",
       "      <th>1</th>\n",
       "      <td>0</td>\n",
       "      <td>151 150 147 155 148 133 111 140 170 174 182 15...</td>\n",
       "    </tr>\n",
       "    <tr>\n",
       "      <th>2</th>\n",
       "      <td>2</td>\n",
       "      <td>231 212 156 164 174 138 161 173 182 200 106 38...</td>\n",
       "    </tr>\n",
       "    <tr>\n",
       "      <th>3</th>\n",
       "      <td>4</td>\n",
       "      <td>24 32 36 30 32 23 19 20 30 41 21 22 32 34 21 1...</td>\n",
       "    </tr>\n",
       "    <tr>\n",
       "      <th>4</th>\n",
       "      <td>6</td>\n",
       "      <td>4 0 0 0 0 0 0 0 0 0 0 0 3 15 23 28 48 50 58 84...</td>\n",
       "    </tr>\n",
       "  </tbody>\n",
       "</table>\n",
       "</div>"
      ],
      "text/plain": [
       "   emotion                                             pixels\n",
       "0        0  70 80 82 72 58 58 60 63 54 58 60 48 89 115 121...\n",
       "1        0  151 150 147 155 148 133 111 140 170 174 182 15...\n",
       "2        2  231 212 156 164 174 138 161 173 182 200 106 38...\n",
       "3        4  24 32 36 30 32 23 19 20 30 41 21 22 32 34 21 1...\n",
       "4        6  4 0 0 0 0 0 0 0 0 0 0 0 3 15 23 28 48 50 58 84..."
      ]
     },
     "execution_count": 7,
     "metadata": {},
     "output_type": "execute_result"
    }
   ],
   "source": [
    "## load dataset here\n",
    "df = pd.read_csv(\"icml_face_data.csv\")\n",
    "df.head()"
   ]
  },
  {
   "cell_type": "markdown",
   "metadata": {},
   "source": [
    "The ```emotion``` column contains a numeric code ranging from 0 to 6, inclusive, for the emotion expressed by the image. The \"pixels\" column contains a string surrounded in quotes for each image."
   ]
  },
  {
   "cell_type": "code",
   "execution_count": 8,
   "metadata": {},
   "outputs": [],
   "source": [
    "## parsing data here\n",
    "images, labels = parse_data(df)\n"
   ]
  },
  {
   "cell_type": "code",
   "execution_count": 9,
   "metadata": {},
   "outputs": [
    {
     "data": {
      "image/png": "[encoded data removed]",
      "text/plain": [
       "<Figure size 1800x900 with 10 Axes>"
      ]
     },
     "metadata": {},
     "output_type": "display_data"
    }
   ],
   "source": [
    "## showing images here\n",
    "show_img(images, labels)"
   ]
  },
  {
   "cell_type": "markdown",
   "metadata": {},
   "source": [
    "## 2. Principle Component Analysis\n",
    "\n",
    "Unsupervised learning can be further categorized into two main tasks: data transformation and clustering. In this study, we will focus on data transformation using unsupervised learning techniques. These techniques aim to modify the data to make it easier for computers and humans to analyze and understand.\n",
    "\n",
    "One of the most common applications of unsupervised data transformation is dimensionality reduction. This process reduces the number of features (dimensions) in the data. When the data has a high number of features, it can be computationally expensive and difficult to analyze. Dimensionality reduction techniques help to overcome these challenges.\n",
    "\n",
    "Principal Component Analysis (PCA) is a popular technique for dimensionality reduction. It transforms the data into a new set of features called principal components (PCs). These PCs are ordered by their importance, capturing the most significant variations in the data. By selecting a subset of the most informative PCs, we can achieve a significant reduction in data size while preserving the essential information for analysis."
   ]
  },
  {
   "cell_type": "markdown",
   "metadata": {},
   "source": [
    "### **Question 1**: Can you visualize the data projected onto two principal components? (2 points)"
   ]
  },
  {
   "cell_type": "code",
   "execution_count": 10,
   "metadata": {},
   "outputs": [
    {
     "name": "stderr",
     "output_type": "stream",
     "text": [
      "C:\\Users\\ADMIN\\AppData\\Roaming\\Python\\Python312\\site-packages\\sklearn\\decomposition\\_pca.py:559: RuntimeWarning: invalid value encountered in divide\n",
      "  explained_variance_ratio_ = explained_variance_ / total_var\n",
      "C:\\Users\\ADMIN\\AppData\\Roaming\\Python\\Python312\\site-packages\\sklearn\\decomposition\\_pca.py:559: RuntimeWarning: invalid value encountered in divide\n",
      "  explained_variance_ratio_ = explained_variance_ / total_var\n",
      "C:\\Users\\ADMIN\\AppData\\Roaming\\Python\\Python312\\site-packages\\sklearn\\decomposition\\_pca.py:559: RuntimeWarning: invalid value encountered in divide\n",
      "  explained_variance_ratio_ = explained_variance_ / total_var\n",
      "C:\\Users\\ADMIN\\AppData\\Roaming\\Python\\Python312\\site-packages\\sklearn\\decomposition\\_pca.py:559: RuntimeWarning: invalid value encountered in divide\n",
      "  explained_variance_ratio_ = explained_variance_ / total_var\n",
      "C:\\Users\\ADMIN\\AppData\\Roaming\\Python\\Python312\\site-packages\\sklearn\\decomposition\\_pca.py:559: RuntimeWarning: invalid value encountered in divide\n",
      "  explained_variance_ratio_ = explained_variance_ / total_var\n",
      "C:\\Users\\ADMIN\\AppData\\Roaming\\Python\\Python312\\site-packages\\sklearn\\decomposition\\_pca.py:559: RuntimeWarning: invalid value encountered in divide\n",
      "  explained_variance_ratio_ = explained_variance_ / total_var\n",
      "C:\\Users\\ADMIN\\AppData\\Roaming\\Python\\Python312\\site-packages\\sklearn\\decomposition\\_pca.py:559: RuntimeWarning: invalid value encountered in divide\n",
      "  explained_variance_ratio_ = explained_variance_ / total_var\n",
      "C:\\Users\\ADMIN\\AppData\\Roaming\\Python\\Python312\\site-packages\\sklearn\\decomposition\\_pca.py:559: RuntimeWarning: invalid value encountered in divide\n",
      "  explained_variance_ratio_ = explained_variance_ / total_var\n",
      "C:\\Users\\ADMIN\\AppData\\Roaming\\Python\\Python312\\site-packages\\sklearn\\decomposition\\_pca.py:559: RuntimeWarning: invalid value encountered in divide\n",
      "  explained_variance_ratio_ = explained_variance_ / total_var\n",
      "C:\\Users\\ADMIN\\AppData\\Roaming\\Python\\Python312\\site-packages\\sklearn\\decomposition\\_pca.py:559: RuntimeWarning: invalid value encountered in divide\n",
      "  explained_variance_ratio_ = explained_variance_ / total_var\n",
      "C:\\Users\\ADMIN\\AppData\\Roaming\\Python\\Python312\\site-packages\\sklearn\\decomposition\\_pca.py:559: RuntimeWarning: invalid value encountered in divide\n",
      "  explained_variance_ratio_ = explained_variance_ / total_var\n",
      "C:\\Users\\ADMIN\\AppData\\Roaming\\Python\\Python312\\site-packages\\sklearn\\decomposition\\_pca.py:559: RuntimeWarning: invalid value encountered in divide\n",
      "  explained_variance_ratio_ = explained_variance_ / total_var\n"
     ]
    }
   ],
   "source": [
    "from sklearn.decomposition import PCA\n",
    "from sklearn.preprocessing import MinMaxScaler\n",
    "\n",
    "#chuẩn hóa ảnh và trả về ảnh đã được chuẩn hóa sau khi giảm chiều\n",
    "def pca_scale(images: np.ndarray):\n",
    "    result = np.zeros(shape=(len(images), 48, 48))\n",
    "    for i in range(len(images)):\n",
    "        scaler = MinMaxScaler()\n",
    "        im_scaled = scaler.fit_transform(images[i])\n",
    "        pca = PCA(n_components=2)\n",
    "        im_pca = pca.fit_transform(im_scaled)\n",
    "        im_pca_inverse = pca.inverse_transform(im_pca)\n",
    "        im_pca_inverse_scale = scaler.inverse_transform(im_pca_inverse)\n",
    "        result[i] = im_pca_inverse_scale\n",
    "    return result\n",
    "\n",
    "images_pca = pca_scale(images)"
   ]
  },
  {
   "cell_type": "code",
   "execution_count": 11,
   "metadata": {},
   "outputs": [
    {
     "data": {
      "text/plain": [
       "(35887, 48, 48)"
      ]
     },
     "execution_count": 11,
     "metadata": {},
     "output_type": "execute_result"
    }
   ],
   "source": [
    "images_pca.shape"
   ]
  },
  {
   "cell_type": "code",
   "execution_count": 12,
   "metadata": {},
   "outputs": [
    {
     "data": {
      "text/plain": [
       "array([[69.92227962, 69.47159956, 71.33778399, ..., 71.14179395,\n",
       "        70.10387667, 65.2483088 ],\n",
       "       [52.82102463, 50.60910656, 55.80038396, ..., 65.73699948,\n",
       "        65.00483841, 57.84521128],\n",
       "       [45.32619627, 43.96838786, 51.78460612, ..., 62.29432873,\n",
       "        61.49049457, 53.47582562],\n",
       "       ...,\n",
       "       [54.46648954, 41.03399338, 37.72576861, ..., 73.78007391,\n",
       "        74.4592373 , 66.43735762],\n",
       "       [53.01114232, 36.2590694 , 30.9575554 , ..., 75.41367232,\n",
       "        76.51979537, 68.00018867],\n",
       "       [59.7630483 , 45.02639604, 39.36004239, ..., 76.67570742,\n",
       "        77.49413687, 70.00984138]])"
      ]
     },
     "execution_count": 12,
     "metadata": {},
     "output_type": "execute_result"
    }
   ],
   "source": [
    "images_pca[0]"
   ]
  },
  {
   "cell_type": "code",
   "execution_count": 13,
   "metadata": {},
   "outputs": [
    {
     "data": {
      "image/png": "[encoded data removed]",
      "text/plain": [
       "<Figure size 1800x900 with 10 Axes>"
      ]
     },
     "metadata": {},
     "output_type": "display_data"
    }
   ],
   "source": [
    "## visualizing here\n",
    "images_pca.shape\n",
    "show_img(images_pca, labels)"
   ]
  },
  {
   "cell_type": "markdown",
   "metadata": {},
   "source": [
    "### **Question 2**: How to determine the optimal number of principal components using ```pca.explained_variance_```? Explain your selection process. (2 points)"
   ]
  },
  {
   "cell_type": "code",
   "execution_count": 14,
   "metadata": {},
   "outputs": [
    {
     "name": "stderr",
     "output_type": "stream",
     "text": [
      "C:\\Users\\ADMIN\\AppData\\Roaming\\Python\\Python312\\site-packages\\sklearn\\decomposition\\_pca.py:559: RuntimeWarning: invalid value encountered in divide\n",
      "  explained_variance_ratio_ = explained_variance_ / total_var\n",
      "C:\\Users\\ADMIN\\AppData\\Local\\Temp\\ipykernel_22460\\200585823.py:10: RuntimeWarning: invalid value encountered in divide\n",
      "  cumulative_explained_variance = np.cumsum(explained_variance / np.sum(explained_variance))\n",
      "C:\\Users\\ADMIN\\AppData\\Roaming\\Python\\Python312\\site-packages\\sklearn\\decomposition\\_pca.py:559: RuntimeWarning: invalid value encountered in divide\n",
      "  explained_variance_ratio_ = explained_variance_ / total_var\n",
      "C:\\Users\\ADMIN\\AppData\\Local\\Temp\\ipykernel_22460\\200585823.py:10: RuntimeWarning: invalid value encountered in divide\n",
      "  cumulative_explained_variance = np.cumsum(explained_variance / np.sum(explained_variance))\n",
      "C:\\Users\\ADMIN\\AppData\\Roaming\\Python\\Python312\\site-packages\\sklearn\\decomposition\\_pca.py:559: RuntimeWarning: invalid value encountered in divide\n",
      "  explained_variance_ratio_ = explained_variance_ / total_var\n",
      "C:\\Users\\ADMIN\\AppData\\Local\\Temp\\ipykernel_22460\\200585823.py:10: RuntimeWarning: invalid value encountered in divide\n",
      "  cumulative_explained_variance = np.cumsum(explained_variance / np.sum(explained_variance))\n",
      "C:\\Users\\ADMIN\\AppData\\Roaming\\Python\\Python312\\site-packages\\sklearn\\decomposition\\_pca.py:559: RuntimeWarning: invalid value encountered in divide\n",
      "  explained_variance_ratio_ = explained_variance_ / total_var\n",
      "C:\\Users\\ADMIN\\AppData\\Local\\Temp\\ipykernel_22460\\200585823.py:10: RuntimeWarning: invalid value encountered in divide\n",
      "  cumulative_explained_variance = np.cumsum(explained_variance / np.sum(explained_variance))\n",
      "C:\\Users\\ADMIN\\AppData\\Roaming\\Python\\Python312\\site-packages\\sklearn\\decomposition\\_pca.py:559: RuntimeWarning: invalid value encountered in divide\n",
      "  explained_variance_ratio_ = explained_variance_ / total_var\n",
      "C:\\Users\\ADMIN\\AppData\\Local\\Temp\\ipykernel_22460\\200585823.py:10: RuntimeWarning: invalid value encountered in divide\n",
      "  cumulative_explained_variance = np.cumsum(explained_variance / np.sum(explained_variance))\n",
      "C:\\Users\\ADMIN\\AppData\\Roaming\\Python\\Python312\\site-packages\\sklearn\\decomposition\\_pca.py:559: RuntimeWarning: invalid value encountered in divide\n",
      "  explained_variance_ratio_ = explained_variance_ / total_var\n",
      "C:\\Users\\ADMIN\\AppData\\Local\\Temp\\ipykernel_22460\\200585823.py:10: RuntimeWarning: invalid value encountered in divide\n",
      "  cumulative_explained_variance = np.cumsum(explained_variance / np.sum(explained_variance))\n",
      "C:\\Users\\ADMIN\\AppData\\Roaming\\Python\\Python312\\site-packages\\sklearn\\decomposition\\_pca.py:559: RuntimeWarning: invalid value encountered in divide\n",
      "  explained_variance_ratio_ = explained_variance_ / total_var\n",
      "C:\\Users\\ADMIN\\AppData\\Local\\Temp\\ipykernel_22460\\200585823.py:10: RuntimeWarning: invalid value encountered in divide\n",
      "  cumulative_explained_variance = np.cumsum(explained_variance / np.sum(explained_variance))\n",
      "C:\\Users\\ADMIN\\AppData\\Roaming\\Python\\Python312\\site-packages\\sklearn\\decomposition\\_pca.py:559: RuntimeWarning: invalid value encountered in divide\n",
      "  explained_variance_ratio_ = explained_variance_ / total_var\n",
      "C:\\Users\\ADMIN\\AppData\\Local\\Temp\\ipykernel_22460\\200585823.py:10: RuntimeWarning: invalid value encountered in divide\n",
      "  cumulative_explained_variance = np.cumsum(explained_variance / np.sum(explained_variance))\n",
      "C:\\Users\\ADMIN\\AppData\\Roaming\\Python\\Python312\\site-packages\\sklearn\\decomposition\\_pca.py:559: RuntimeWarning: invalid value encountered in divide\n",
      "  explained_variance_ratio_ = explained_variance_ / total_var\n",
      "C:\\Users\\ADMIN\\AppData\\Local\\Temp\\ipykernel_22460\\200585823.py:10: RuntimeWarning: invalid value encountered in divide\n",
      "  cumulative_explained_variance = np.cumsum(explained_variance / np.sum(explained_variance))\n",
      "C:\\Users\\ADMIN\\AppData\\Roaming\\Python\\Python312\\site-packages\\sklearn\\decomposition\\_pca.py:559: RuntimeWarning: invalid value encountered in divide\n",
      "  explained_variance_ratio_ = explained_variance_ / total_var\n",
      "C:\\Users\\ADMIN\\AppData\\Local\\Temp\\ipykernel_22460\\200585823.py:10: RuntimeWarning: invalid value encountered in divide\n",
      "  cumulative_explained_variance = np.cumsum(explained_variance / np.sum(explained_variance))\n",
      "C:\\Users\\ADMIN\\AppData\\Roaming\\Python\\Python312\\site-packages\\sklearn\\decomposition\\_pca.py:559: RuntimeWarning: invalid value encountered in divide\n",
      "  explained_variance_ratio_ = explained_variance_ / total_var\n",
      "C:\\Users\\ADMIN\\AppData\\Local\\Temp\\ipykernel_22460\\200585823.py:10: RuntimeWarning: invalid value encountered in divide\n",
      "  cumulative_explained_variance = np.cumsum(explained_variance / np.sum(explained_variance))\n",
      "C:\\Users\\ADMIN\\AppData\\Roaming\\Python\\Python312\\site-packages\\sklearn\\decomposition\\_pca.py:559: RuntimeWarning: invalid value encountered in divide\n",
      "  explained_variance_ratio_ = explained_variance_ / total_var\n",
      "C:\\Users\\ADMIN\\AppData\\Local\\Temp\\ipykernel_22460\\200585823.py:10: RuntimeWarning: invalid value encountered in divide\n",
      "  cumulative_explained_variance = np.cumsum(explained_variance / np.sum(explained_variance))\n"
     ]
    },
    {
     "name": "stdout",
     "output_type": "stream",
     "text": [
      "Số lượng thành phần chính tối ưu là 0 : 0\n",
      "Số lượng thành phần chính tối ưu là 1 : 13\n",
      "Số lượng thành phần chính tối ưu là 2 : 5\n",
      "Số lượng thành phần chính tối ưu là 3 : 11\n",
      "Số lượng thành phần chính tối ưu là 4 : 48\n",
      "Số lượng thành phần chính tối ưu là 5 : 173\n",
      "Số lượng thành phần chính tối ưu là 6 : 685\n",
      "Số lượng thành phần chính tối ưu là 7 : 1813\n",
      "Số lượng thành phần chính tối ưu là 8 : 3779\n",
      "Số lượng thành phần chính tối ưu là 9 : 6128\n",
      "Số lượng thành phần chính tối ưu là 10 : 7352\n",
      "Số lượng thành phần chính tối ưu là 11 : 6426\n",
      "Số lượng thành phần chính tối ưu là 12 : 4639\n",
      "Số lượng thành phần chính tối ưu là 13 : 2646\n",
      "Số lượng thành phần chính tối ưu là 14 : 1289\n",
      "Số lượng thành phần chính tối ưu là 15 : 543\n",
      "Số lượng thành phần chính tối ưu là 16 : 181\n",
      "Số lượng thành phần chính tối ưu là 17 : 74\n",
      "Số lượng thành phần chính tối ưu là 18 : 39\n",
      "Số lượng thành phần chính tối ưu là 19 : 21\n",
      "Số lượng thành phần chính tối ưu là 20 : 8\n",
      "Số lượng thành phần chính tối ưu là 21 : 6\n",
      "Số lượng thành phần chính tối ưu là 22 : 7\n",
      "Số lượng thành phần chính tối ưu là 23 : 1\n",
      "Số lượng thành phần chính tối ưu là 24 : 0\n"
     ]
    }
   ],
   "source": [
    "## determine the optimal number of PCs here\n",
    "scaler = MinMaxScaler()\n",
    "optimal = [0] * 25\n",
    "pca = PCA()\n",
    "threshold = 0.95\n",
    "for i in range(len(images)):\n",
    "  im = scaler.fit_transform(images[i])\n",
    "  im = pca.fit(im)\n",
    "  explained_variance = pca.explained_variance_\n",
    "  cumulative_explained_variance = np.cumsum(explained_variance / np.sum(explained_variance))\n",
    "  optimal_num_components = np.argmax(cumulative_explained_variance >= threshold) + 1\n",
    "  optimal[optimal_num_components] += 1\n",
    "\n",
    "for i in range(len(optimal)):\n",
    "  print(f'Số lượng thành phần chính tối ưu là {i} : {optimal[i]}')"
   ]
  },
  {
   "cell_type": "markdown",
   "metadata": {},
   "source": [
    "## 3. Image Classification"
   ]
  },
  {
   "cell_type": "markdown",
   "metadata": {},
   "source": [
    "The classification task will compare the performance using both:\n",
    "\n",
    "- Original data: The data before applying PCA.\n",
    "- Transformed data: The data projected onto the optimal number of principal components identified earlier. Utilize the **optimal number of principal components** identified in the previous question.\n",
    "\n",
    "Compare the performance of **4** different classification algorithms (3 machine learning and 1 MLP models) in both formats above. (4 points)\n",
    "\n",
    "Perform hyperparameter tuning using ```GridSearchCV``` for each classification method. (1 point)\n",
    "\n",
    "Inspiration: Draw inspiration from the example provided in the scikit-learn documentation: https://scikit-learn.org/dev/auto_examples/datasets/plot_iris_dataset.html"
   ]
  },
  {
   "cell_type": "markdown",
   "metadata": {},
   "source": [
    "### **Prepare Data**"
   ]
  },
  {
   "cell_type": "code",
   "execution_count": 15,
   "metadata": {},
   "outputs": [],
   "source": [
    "from sklearn.model_selection import train_test_split\n",
    "\n",
    "trainX, testX, trainY, testY = train_test_split(images, labels, test_size=0.2, random_state=42)"
   ]
  },
  {
   "cell_type": "code",
   "execution_count": 16,
   "metadata": {},
   "outputs": [],
   "source": [
    "# data source theo cách xử lý cho toàn tập\n",
    "scaler = MinMaxScaler()\n",
    "pca = PCA(n_components = 12)\n",
    "\n",
    "trainX_flat = scaler.fit_transform(trainX.reshape(len(trainX), 48*48))\n",
    "testX_flat = scaler.transform(testX.reshape(len(testX), 48*48))\n",
    "\n",
    "trainX_processed = pca.fit_transform(trainX_flat)\n",
    "testX_processed = pca.transform(testX_flat)"
   ]
  },
  {
   "cell_type": "code",
   "execution_count": 17,
   "metadata": {},
   "outputs": [],
   "source": [
    "def pca_scale(images: np.ndarray, images2: np.ndarray):\n",
    "    scaler = MinMaxScaler()\n",
    "    result = np.zeros(shape=(len(images), 48, 48))\n",
    "    result2 = np.zeros(shape=(len(images), 48, 48))\n",
    "    for i in range(len(images)):\n",
    "        im_scaled = scaler.fit_transform(images[i])\n",
    "        result[i] = im_scaled\n",
    "        \n",
    "    for i in range(len(images2)):\n",
    "        im_scaled = scaler.fit_transform(images[i])\n",
    "        result2[i] = im_scaled\n",
    "\n",
    "    return result, result2\n"
   ]
  },
  {
   "cell_type": "markdown",
   "metadata": {},
   "source": [
    "### **MLP Model**"
   ]
  },
  {
   "cell_type": "code",
   "execution_count": 12,
   "metadata": {},
   "outputs": [],
   "source": [
    "from sklearn.neural_network import MLPClassifier\n",
    "from sklearn.metrics import classification_report\n",
    "\n",
    "# Định nghĩa MLPClassifier\n",
    "mlp = MLPClassifier()"
   ]
  },
  {
   "cell_type": "markdown",
   "metadata": {},
   "source": [
    "#### Original data"
   ]
  },
  {
   "cell_type": "code",
   "execution_count": 13,
   "metadata": {},
   "outputs": [
    {
     "name": "stderr",
     "output_type": "stream",
     "text": [
      "d:\\School\\Python\\Lib\\site-packages\\sklearn\\neural_network\\_multilayer_perceptron.py:690: ConvergenceWarning: Stochastic Optimizer: Maximum iterations (200) reached and the optimization hasn't converged yet.\n",
      "  warnings.warn(\n"
     ]
    },
    {
     "name": "stdout",
     "output_type": "stream",
     "text": [
      "              precision    recall  f1-score   support\n",
      "\n",
      "           0       0.32      0.12      0.17       985\n",
      "           1       0.35      0.16      0.22       102\n",
      "           2       0.25      0.28      0.27      1043\n",
      "           3       0.50      0.56      0.53      1765\n",
      "           4       0.29      0.24      0.26      1210\n",
      "           5       0.50      0.51      0.50       795\n",
      "           6       0.31      0.46      0.37      1278\n",
      "\n",
      "    accuracy                           0.37      7178\n",
      "   macro avg       0.36      0.33      0.33      7178\n",
      "weighted avg       0.37      0.37      0.36      7178\n",
      "\n"
     ]
    }
   ],
   "source": [
    "# Huấn luyện mô hình\n",
    "mlp.fit(trainX_flat, trainY)\n",
    "\n",
    "\n",
    "# Dự đoán trên tập kiểm tra\n",
    "y_pred = mlp.predict(testX_flat)\n",
    "\n",
    "# Đánh giá mô hình\n",
    "print(classification_report(testY, y_pred))"
   ]
  },
  {
   "cell_type": "markdown",
   "metadata": {},
   "source": [
    "#### Processed data"
   ]
  },
  {
   "cell_type": "code",
   "execution_count": 14,
   "metadata": {},
   "outputs": [
    {
     "name": "stdout",
     "output_type": "stream",
     "text": [
      "              precision    recall  f1-score   support\n",
      "\n",
      "           0       0.26      0.16      0.20       985\n",
      "           1       0.11      0.01      0.02       102\n",
      "           2       0.27      0.22      0.24      1043\n",
      "           3       0.33      0.52      0.40      1765\n",
      "           4       0.30      0.26      0.28      1210\n",
      "           5       0.32      0.29      0.31       795\n",
      "           6       0.30      0.28      0.29      1278\n",
      "\n",
      "    accuracy                           0.31      7178\n",
      "   macro avg       0.27      0.25      0.25      7178\n",
      "weighted avg       0.30      0.31      0.30      7178\n",
      "\n"
     ]
    },
    {
     "name": "stderr",
     "output_type": "stream",
     "text": [
      "d:\\School\\Python\\Lib\\site-packages\\sklearn\\neural_network\\_multilayer_perceptron.py:690: ConvergenceWarning: Stochastic Optimizer: Maximum iterations (200) reached and the optimization hasn't converged yet.\n",
      "  warnings.warn(\n"
     ]
    }
   ],
   "source": [
    "# Huấn luyện mô hình\n",
    "mlp.fit(trainX_processed, trainY)\n",
    "\n",
    "\n",
    "# Dự đoán trên tập kiểm tra\n",
    "y_pred = mlp.predict(testX_processed)\n",
    "\n",
    "# Đánh giá mô hình\n",
    "print(classification_report(testY, y_pred))"
   ]
  },
  {
   "cell_type": "markdown",
   "metadata": {},
   "source": [
    "### **Logistic Regression**"
   ]
  },
  {
   "cell_type": "code",
   "execution_count": 15,
   "metadata": {},
   "outputs": [],
   "source": [
    "from sklearn.linear_model import LogisticRegression\n",
    "from sklearn.metrics import classification_report\n",
    "\n",
    "logreg = LogisticRegression(multi_class=\"auto\", penalty = \"l2\", fit_intercept= True ,solver = \"saga\", n_jobs = -1)"
   ]
  },
  {
   "cell_type": "markdown",
   "metadata": {},
   "source": [
    "#### Original data"
   ]
  },
  {
   "cell_type": "code",
   "execution_count": 16,
   "metadata": {},
   "outputs": [
    {
     "name": "stderr",
     "output_type": "stream",
     "text": [
      "d:\\School\\Python\\Lib\\site-packages\\sklearn\\linear_model\\_logistic.py:1247: FutureWarning: 'multi_class' was deprecated in version 1.5 and will be removed in 1.7. From then on, it will always use 'multinomial'. Leave it to its default value to avoid this warning.\n",
      "  warnings.warn(\n"
     ]
    },
    {
     "name": "stdout",
     "output_type": "stream",
     "text": [
      "              precision    recall  f1-score   support\n",
      "\n",
      "           0       0.28      0.19      0.23       985\n",
      "           1       0.57      0.08      0.14       102\n",
      "           2       0.26      0.18      0.22      1043\n",
      "           3       0.43      0.63      0.51      1765\n",
      "           4       0.27      0.26      0.27      1210\n",
      "           5       0.49      0.46      0.47       795\n",
      "           6       0.34      0.32      0.33      1278\n",
      "\n",
      "    accuracy                           0.36      7178\n",
      "   macro avg       0.38      0.31      0.31      7178\n",
      "weighted avg       0.35      0.36      0.35      7178\n",
      "\n"
     ]
    },
    {
     "name": "stderr",
     "output_type": "stream",
     "text": [
      "d:\\School\\Python\\Lib\\site-packages\\sklearn\\linear_model\\_sag.py:349: ConvergenceWarning: The max_iter was reached which means the coef_ did not converge\n",
      "  warnings.warn(\n"
     ]
    }
   ],
   "source": [
    "# Huấn luyện mô hình\n",
    "logreg.fit(trainX_flat, trainY)\n",
    "\n",
    "\n",
    "# Dự đoán trên tập kiểm tra\n",
    "y_pred = logreg.predict(testX_flat)\n",
    "\n",
    "# Đánh giá mô hình\n",
    "print(classification_report(testY, y_pred))"
   ]
  },
  {
   "cell_type": "markdown",
   "metadata": {},
   "source": [
    "#### Processed data"
   ]
  },
  {
   "cell_type": "code",
   "execution_count": 17,
   "metadata": {},
   "outputs": [
    {
     "name": "stderr",
     "output_type": "stream",
     "text": [
      "d:\\School\\Python\\Lib\\site-packages\\sklearn\\linear_model\\_logistic.py:1247: FutureWarning: 'multi_class' was deprecated in version 1.5 and will be removed in 1.7. From then on, it will always use 'multinomial'. Leave it to its default value to avoid this warning.\n",
      "  warnings.warn(\n"
     ]
    },
    {
     "name": "stdout",
     "output_type": "stream",
     "text": [
      "              precision    recall  f1-score   support\n",
      "\n",
      "           0       0.21      0.04      0.07       985\n",
      "           1       0.00      0.00      0.00       102\n",
      "           2       0.20      0.02      0.04      1043\n",
      "           3       0.28      0.73      0.40      1765\n",
      "           4       0.27      0.22      0.24      1210\n",
      "           5       0.30      0.19      0.23       795\n",
      "           6       0.30      0.18      0.23      1278\n",
      "\n",
      "    accuracy                           0.28      7178\n",
      "   macro avg       0.22      0.20      0.17      7178\n",
      "weighted avg       0.26      0.28      0.22      7178\n",
      "\n"
     ]
    },
    {
     "name": "stderr",
     "output_type": "stream",
     "text": [
      "d:\\School\\Python\\Lib\\site-packages\\sklearn\\metrics\\_classification.py:1517: UndefinedMetricWarning: Precision is ill-defined and being set to 0.0 in labels with no predicted samples. Use `zero_division` parameter to control this behavior.\n",
      "  _warn_prf(average, modifier, f\"{metric.capitalize()} is\", len(result))\n",
      "d:\\School\\Python\\Lib\\site-packages\\sklearn\\metrics\\_classification.py:1517: UndefinedMetricWarning: Precision is ill-defined and being set to 0.0 in labels with no predicted samples. Use `zero_division` parameter to control this behavior.\n",
      "  _warn_prf(average, modifier, f\"{metric.capitalize()} is\", len(result))\n",
      "d:\\School\\Python\\Lib\\site-packages\\sklearn\\metrics\\_classification.py:1517: UndefinedMetricWarning: Precision is ill-defined and being set to 0.0 in labels with no predicted samples. Use `zero_division` parameter to control this behavior.\n",
      "  _warn_prf(average, modifier, f\"{metric.capitalize()} is\", len(result))\n"
     ]
    }
   ],
   "source": [
    "# Huấn luyện mô hình\n",
    "logreg.fit(trainX_processed, trainY)\n",
    "\n",
    "\n",
    "# Dự đoán trên tập kiểm tra\n",
    "y_pred = logreg.predict(testX_processed)\n",
    "\n",
    "# Đánh giá mô hình\n",
    "print(classification_report(testY, y_pred))"
   ]
  },
  {
   "cell_type": "markdown",
   "metadata": {},
   "source": [
    "### **SVM Model**"
   ]
  },
  {
   "cell_type": "code",
   "execution_count": 18,
   "metadata": {},
   "outputs": [],
   "source": [
    "from sklearn.svm import SVC\n",
    "from sklearn.metrics import classification_report\n",
    "\n",
    "svm = SVC()"
   ]
  },
  {
   "cell_type": "markdown",
   "metadata": {},
   "source": [
    "#### Original data"
   ]
  },
  {
   "cell_type": "code",
   "execution_count": 20,
   "metadata": {},
   "outputs": [
    {
     "name": "stdout",
     "output_type": "stream",
     "text": [
      "SVM on original data\n",
      "              precision    recall  f1-score   support\n",
      "\n",
      "           0       0.43      0.24      0.31       985\n",
      "           1       1.00      0.07      0.13       102\n",
      "           2       0.40      0.24      0.30      1043\n",
      "           3       0.48      0.73      0.58      1765\n",
      "           4       0.34      0.40      0.37      1210\n",
      "           5       0.64      0.50      0.56       795\n",
      "           6       0.42      0.42      0.42      1278\n",
      "\n",
      "    accuracy                           0.44      7178\n",
      "   macro avg       0.53      0.37      0.38      7178\n",
      "weighted avg       0.45      0.44      0.43      7178\n",
      "\n"
     ]
    }
   ],
   "source": [
    "# Huấn luyện mô hình\n",
    "svm.fit(trainX_flat, trainY)\n",
    "\n",
    "# Dự đoán trên tập kiểm tra\n",
    "y_pred = svm.predict(testX_flat)\n",
    "\n",
    "# Đánh giá mô hình\n",
    "\n",
    "print(\"SVM on original data\")\n",
    "print(classification_report(testY, y_pred))"
   ]
  },
  {
   "cell_type": "markdown",
   "metadata": {},
   "source": [
    "#### Processed data"
   ]
  },
  {
   "cell_type": "code",
   "execution_count": 21,
   "metadata": {},
   "outputs": [
    {
     "name": "stdout",
     "output_type": "stream",
     "text": [
      "SVM on PCA-processed data\n",
      "              precision    recall  f1-score   support\n",
      "\n",
      "           0       0.31      0.06      0.11       985\n",
      "           1       0.00      0.00      0.00       102\n",
      "           2       0.28      0.09      0.13      1043\n",
      "           3       0.30      0.75      0.43      1765\n",
      "           4       0.31      0.25      0.28      1210\n",
      "           5       0.37      0.24      0.29       795\n",
      "           6       0.37      0.22      0.27      1278\n",
      "\n",
      "    accuracy                           0.31      7178\n",
      "   macro avg       0.28      0.23      0.22      7178\n",
      "weighted avg       0.32      0.31      0.27      7178\n",
      "\n"
     ]
    },
    {
     "name": "stderr",
     "output_type": "stream",
     "text": [
      "C:\\Users\\ADMIN\\AppData\\Roaming\\Python\\Python312\\site-packages\\sklearn\\metrics\\_classification.py:1509: UndefinedMetricWarning: Precision is ill-defined and being set to 0.0 in labels with no predicted samples. Use `zero_division` parameter to control this behavior.\n",
      "  _warn_prf(average, modifier, f\"{metric.capitalize()} is\", len(result))\n",
      "C:\\Users\\ADMIN\\AppData\\Roaming\\Python\\Python312\\site-packages\\sklearn\\metrics\\_classification.py:1509: UndefinedMetricWarning: Precision is ill-defined and being set to 0.0 in labels with no predicted samples. Use `zero_division` parameter to control this behavior.\n",
      "  _warn_prf(average, modifier, f\"{metric.capitalize()} is\", len(result))\n",
      "C:\\Users\\ADMIN\\AppData\\Roaming\\Python\\Python312\\site-packages\\sklearn\\metrics\\_classification.py:1509: UndefinedMetricWarning: Precision is ill-defined and being set to 0.0 in labels with no predicted samples. Use `zero_division` parameter to control this behavior.\n",
      "  _warn_prf(average, modifier, f\"{metric.capitalize()} is\", len(result))\n"
     ]
    }
   ],
   "source": [
    "# Huấn luyện mô hình\n",
    "svm.fit(trainX_processed, trainY)\n",
    "\n",
    "# Dự đoán trên tập kiểm tra\n",
    "y_pred = svm.predict(testX_processed)\n",
    "\n",
    "# Đánh giá mô hình\n",
    "print(\"SVM on PCA-processed data\")\n",
    "print(classification_report(testY, y_pred))"
   ]
  },
  {
   "cell_type": "markdown",
   "metadata": {},
   "source": [
    "### **Random Forest Classifier**"
   ]
  },
  {
   "cell_type": "code",
   "execution_count": 22,
   "metadata": {},
   "outputs": [],
   "source": [
    "from sklearn.ensemble import RandomForestClassifier\n",
    "from sklearn.metrics import classification_report\n",
    "\n",
    "model = RandomForestClassifier(n_estimators=150, max_depth=15, random_state=42)\n"
   ]
  },
  {
   "cell_type": "markdown",
   "metadata": {},
   "source": [
    "#### Original data"
   ]
  },
  {
   "cell_type": "code",
   "execution_count": 23,
   "metadata": {},
   "outputs": [
    {
     "name": "stdout",
     "output_type": "stream",
     "text": [
      "              precision    recall  f1-score   support\n",
      "\n",
      "           0       0.58      0.19      0.28       985\n",
      "           1       1.00      0.25      0.39       102\n",
      "           2       0.56      0.26      0.35      1043\n",
      "           3       0.43      0.82      0.56      1765\n",
      "           4       0.38      0.37      0.37      1210\n",
      "           5       0.67      0.56      0.61       795\n",
      "           6       0.44      0.39      0.41      1278\n",
      "\n",
      "    accuracy                           0.46      7178\n",
      "   macro avg       0.58      0.40      0.43      7178\n",
      "weighted avg       0.50      0.46      0.44      7178\n",
      "\n"
     ]
    }
   ],
   "source": [
    "# Train the model\n",
    "model.fit(trainX_flat, trainY)\n",
    "\n",
    "# Prediction on test set\n",
    "y_pred = model.predict(testX_flat)\n",
    "\n",
    "# Classification report\n",
    "print(classification_report(testY, y_pred))\n",
    "# model.fit(trainX_pca_shape, trainY)"
   ]
  },
  {
   "cell_type": "markdown",
   "metadata": {},
   "source": [
    "#### Processed data"
   ]
  },
  {
   "cell_type": "code",
   "execution_count": 24,
   "metadata": {},
   "outputs": [
    {
     "name": "stdout",
     "output_type": "stream",
     "text": [
      "              precision    recall  f1-score   support\n",
      "\n",
      "           0       0.52      0.18      0.27       985\n",
      "           1       0.88      0.14      0.24       102\n",
      "           2       0.50      0.22      0.31      1043\n",
      "           3       0.33      0.74      0.46      1765\n",
      "           4       0.35      0.30      0.32      1210\n",
      "           5       0.59      0.42      0.49       795\n",
      "           6       0.40      0.27      0.32      1278\n",
      "\n",
      "    accuracy                           0.38      7178\n",
      "   macro avg       0.51      0.32      0.34      7178\n",
      "weighted avg       0.43      0.38      0.36      7178\n",
      "\n"
     ]
    }
   ],
   "source": [
    "# Train the model\n",
    "model.fit(trainX_processed, trainY)\n",
    "\n",
    "# Prediction on test set\n",
    "y_pred_pca = model.predict(testX_processed)\n",
    "\n",
    "# Classification report\n",
    "print(classification_report(testY, y_pred_pca))"
   ]
  },
  {
   "cell_type": "markdown",
   "metadata": {},
   "source": [
    "### **Naive Bayes**"
   ]
  },
  {
   "cell_type": "code",
   "execution_count": 39,
   "metadata": {},
   "outputs": [
    {
     "ename": "ValueError",
     "evalue": "y must have at least two dimensions for multi-output regression but has only one.",
     "output_type": "error",
     "traceback": [
      "\u001b[1;31m---------------------------------------------------------------------------\u001b[0m",
      "\u001b[1;31mValueError\u001b[0m                                Traceback (most recent call last)",
      "Cell \u001b[1;32mIn[39], line 20\u001b[0m\n\u001b[0;32m     17\u001b[0m multi_target_nb \u001b[38;5;241m=\u001b[39m MultiOutputClassifier(nb, n_jobs\u001b[38;5;241m=\u001b[39m\u001b[38;5;241m-\u001b[39m\u001b[38;5;241m1\u001b[39m)\n\u001b[0;32m     19\u001b[0m \u001b[38;5;66;03m# Fit the model on the original data\u001b[39;00m\n\u001b[1;32m---> 20\u001b[0m \u001b[43mmulti_target_nb\u001b[49m\u001b[38;5;241;43m.\u001b[39;49m\u001b[43mfit\u001b[49m\u001b[43m(\u001b[49m\u001b[43mtrainX_flat\u001b[49m\u001b[43m,\u001b[49m\u001b[43m \u001b[49m\u001b[43mtrainY\u001b[49m\u001b[43m)\u001b[49m\n\u001b[0;32m     22\u001b[0m \u001b[38;5;66;03m# Predict on the test set\u001b[39;00m\n\u001b[0;32m     23\u001b[0m y_pred \u001b[38;5;241m=\u001b[39m multi_target_nb\u001b[38;5;241m.\u001b[39mpredict(testX_flat)\n",
      "File \u001b[1;32m~\\AppData\\Roaming\\Python\\Python312\\site-packages\\sklearn\\multioutput.py:537\u001b[0m, in \u001b[0;36mMultiOutputClassifier.fit\u001b[1;34m(self, X, Y, sample_weight, **fit_params)\u001b[0m\n\u001b[0;32m    511\u001b[0m \u001b[38;5;28;01mdef\u001b[39;00m \u001b[38;5;21mfit\u001b[39m(\u001b[38;5;28mself\u001b[39m, X, Y, sample_weight\u001b[38;5;241m=\u001b[39m\u001b[38;5;28;01mNone\u001b[39;00m, \u001b[38;5;241m*\u001b[39m\u001b[38;5;241m*\u001b[39mfit_params):\n\u001b[0;32m    512\u001b[0m \u001b[38;5;250m    \u001b[39m\u001b[38;5;124;03m\"\"\"Fit the model to data matrix X and targets Y.\u001b[39;00m\n\u001b[0;32m    513\u001b[0m \n\u001b[0;32m    514\u001b[0m \u001b[38;5;124;03m    Parameters\u001b[39;00m\n\u001b[1;32m   (...)\u001b[0m\n\u001b[0;32m    535\u001b[0m \u001b[38;5;124;03m        Returns a fitted instance.\u001b[39;00m\n\u001b[0;32m    536\u001b[0m \u001b[38;5;124;03m    \"\"\"\u001b[39;00m\n\u001b[1;32m--> 537\u001b[0m     \u001b[38;5;28;43msuper\u001b[39;49m\u001b[43m(\u001b[49m\u001b[43m)\u001b[49m\u001b[38;5;241;43m.\u001b[39;49m\u001b[43mfit\u001b[49m\u001b[43m(\u001b[49m\u001b[43mX\u001b[49m\u001b[43m,\u001b[49m\u001b[43m \u001b[49m\u001b[43mY\u001b[49m\u001b[43m,\u001b[49m\u001b[43m \u001b[49m\u001b[43msample_weight\u001b[49m\u001b[38;5;241;43m=\u001b[39;49m\u001b[43msample_weight\u001b[49m\u001b[43m,\u001b[49m\u001b[43m \u001b[49m\u001b[38;5;241;43m*\u001b[39;49m\u001b[38;5;241;43m*\u001b[39;49m\u001b[43mfit_params\u001b[49m\u001b[43m)\u001b[49m\n\u001b[0;32m    538\u001b[0m     \u001b[38;5;28mself\u001b[39m\u001b[38;5;241m.\u001b[39mclasses_ \u001b[38;5;241m=\u001b[39m [estimator\u001b[38;5;241m.\u001b[39mclasses_ \u001b[38;5;28;01mfor\u001b[39;00m estimator \u001b[38;5;129;01min\u001b[39;00m \u001b[38;5;28mself\u001b[39m\u001b[38;5;241m.\u001b[39mestimators_]\n\u001b[0;32m    539\u001b[0m     \u001b[38;5;28;01mreturn\u001b[39;00m \u001b[38;5;28mself\u001b[39m\n",
      "File \u001b[1;32m~\\AppData\\Roaming\\Python\\Python312\\site-packages\\sklearn\\base.py:1474\u001b[0m, in \u001b[0;36m_fit_context.<locals>.decorator.<locals>.wrapper\u001b[1;34m(estimator, *args, **kwargs)\u001b[0m\n\u001b[0;32m   1467\u001b[0m     estimator\u001b[38;5;241m.\u001b[39m_validate_params()\n\u001b[0;32m   1469\u001b[0m \u001b[38;5;28;01mwith\u001b[39;00m config_context(\n\u001b[0;32m   1470\u001b[0m     skip_parameter_validation\u001b[38;5;241m=\u001b[39m(\n\u001b[0;32m   1471\u001b[0m         prefer_skip_nested_validation \u001b[38;5;129;01mor\u001b[39;00m global_skip_validation\n\u001b[0;32m   1472\u001b[0m     )\n\u001b[0;32m   1473\u001b[0m ):\n\u001b[1;32m-> 1474\u001b[0m     \u001b[38;5;28;01mreturn\u001b[39;00m \u001b[43mfit_method\u001b[49m\u001b[43m(\u001b[49m\u001b[43mestimator\u001b[49m\u001b[43m,\u001b[49m\u001b[43m \u001b[49m\u001b[38;5;241;43m*\u001b[39;49m\u001b[43margs\u001b[49m\u001b[43m,\u001b[49m\u001b[43m \u001b[49m\u001b[38;5;241;43m*\u001b[39;49m\u001b[38;5;241;43m*\u001b[39;49m\u001b[43mkwargs\u001b[49m\u001b[43m)\u001b[49m\n",
      "File \u001b[1;32m~\\AppData\\Roaming\\Python\\Python312\\site-packages\\sklearn\\multioutput.py:246\u001b[0m, in \u001b[0;36m_MultiOutputEstimator.fit\u001b[1;34m(self, X, y, sample_weight, **fit_params)\u001b[0m\n\u001b[0;32m    243\u001b[0m     check_classification_targets(y)\n\u001b[0;32m    245\u001b[0m \u001b[38;5;28;01mif\u001b[39;00m y\u001b[38;5;241m.\u001b[39mndim \u001b[38;5;241m==\u001b[39m \u001b[38;5;241m1\u001b[39m:\n\u001b[1;32m--> 246\u001b[0m     \u001b[38;5;28;01mraise\u001b[39;00m \u001b[38;5;167;01mValueError\u001b[39;00m(\n\u001b[0;32m    247\u001b[0m         \u001b[38;5;124m\"\u001b[39m\u001b[38;5;124my must have at least two dimensions for \u001b[39m\u001b[38;5;124m\"\u001b[39m\n\u001b[0;32m    248\u001b[0m         \u001b[38;5;124m\"\u001b[39m\u001b[38;5;124mmulti-output regression but has only one.\u001b[39m\u001b[38;5;124m\"\u001b[39m\n\u001b[0;32m    249\u001b[0m     )\n\u001b[0;32m    251\u001b[0m \u001b[38;5;28;01mif\u001b[39;00m _routing_enabled():\n\u001b[0;32m    252\u001b[0m     \u001b[38;5;28;01mif\u001b[39;00m sample_weight \u001b[38;5;129;01mis\u001b[39;00m \u001b[38;5;129;01mnot\u001b[39;00m \u001b[38;5;28;01mNone\u001b[39;00m:\n",
      "\u001b[1;31mValueError\u001b[0m: y must have at least two dimensions for multi-output regression but has only one."
     ]
    }
   ],
   "source": [
    "from sklearn.multioutput import MultiOutputClassifier\n",
    "from sklearn.metrics import classification_report\n",
    "from sklearn.naive_bayes import GaussianNB\n",
    "from sklearn.model_selection import train_test_split\n",
    "\n",
    "# Assuming labels is a 1D array of shape (n_samples,)\n",
    "# Reshape it to (n_samples, 1) for single-output classification\n",
    "labels = labels.reshape(-1, 1)\n",
    "\n",
    "trainX_processed = pca.fit_transform(trainX_flat)\n",
    "testX_processed = pca.transform(testX_flat)\n",
    "\n",
    "# Create a Gaussian Naive Bayes classifier\n",
    "nb = GaussianNB()\n",
    "\n",
    "# Wrap the classifier with MultiOutputClassifier for multi-output classification\n",
    "multi_target_nb = MultiOutputClassifier(nb, n_jobs=-1)\n",
    "\n",
    "# Fit the model on the original data\n",
    "multi_target_nb.fit(trainX_flat, trainY)\n",
    "\n",
    "# Predict on the test set\n",
    "y_pred = multi_target_nb.predict(testX_flat)\n",
    "\n",
    "# Evaluate the model\n",
    "print(\"Classification Report for original data:\")\n",
    "print(classification_report(testY, y_pred))\n",
    "\n",
    "# Fit the model on the PCA-transformed data\n",
    "multi_target_nb.fit(trainX_processed, trainY)\n",
    "\n",
    "# Predict on the PCA test set\n",
    "y_pred_pca = multi_target_nb.predict(testX_processed)\n",
    "\n",
    "# Evaluate the model with PCA data\n",
    "print(\"\\nClassification Report for PCA-transformed data:\")\n",
    "print(classification_report(testY, y_pred_pca))"
   ]
  },
  {
   "cell_type": "code",
   "execution_count": 28,
   "metadata": {},
   "outputs": [],
   "source": [
    "from sklearn.multioutput import MultiOutputClassifier\n",
    "from sklearn.metrics import classification_report\n",
    "from sklearn.naive_bayes import GaussianNB\n",
    "from sklearn.model_selection import train_test_split\n",
    "\n",
    "# Assuming labels is a 1D array of shape (n_samples,)\n",
    "# Reshape it to (n_samples, 1) for single-output classification\n",
    "labels = labels.reshape(-1, 1)\n",
    "\n",
    "trainX_processed = pca.fit_transform(trainX_flat)\n",
    "testX_processed = pca.transform(testX_flat)\n",
    "\n",
    "# Create a Gaussian Naive Bayes classifier\n",
    "nb = GaussianNB()\n",
    "\n",
    "# Wrap the classifier with MultiOutputClassifier for multi-output classification\n",
    "multi_target_nb = MultiOutputClassifier(nb, n_jobs=-1)\n"
   ]
  },
  {
   "cell_type": "markdown",
   "metadata": {},
   "source": [
    "#### Original data"
   ]
  },
  {
   "cell_type": "code",
   "execution_count": 29,
   "metadata": {},
   "outputs": [
    {
     "ename": "ValueError",
     "evalue": "y must have at least two dimensions for multi-output regression but has only one.",
     "output_type": "error",
     "traceback": [
      "\u001b[1;31m---------------------------------------------------------------------------\u001b[0m",
      "\u001b[1;31mValueError\u001b[0m                                Traceback (most recent call last)",
      "Cell \u001b[1;32mIn[29], line 2\u001b[0m\n\u001b[0;32m      1\u001b[0m \u001b[38;5;66;03m# Fit the model on the original data\u001b[39;00m\n\u001b[1;32m----> 2\u001b[0m \u001b[43mmulti_target_nb\u001b[49m\u001b[38;5;241;43m.\u001b[39;49m\u001b[43mfit\u001b[49m\u001b[43m(\u001b[49m\u001b[43mtrainX_flat\u001b[49m\u001b[43m,\u001b[49m\u001b[43m \u001b[49m\u001b[43mtrainY\u001b[49m\u001b[43m)\u001b[49m\n\u001b[0;32m      4\u001b[0m \u001b[38;5;66;03m# Predict on the test set\u001b[39;00m\n\u001b[0;32m      5\u001b[0m y_pred \u001b[38;5;241m=\u001b[39m multi_target_nb\u001b[38;5;241m.\u001b[39mpredict(testX_flat)\n",
      "File \u001b[1;32m~\\AppData\\Roaming\\Python\\Python312\\site-packages\\sklearn\\multioutput.py:537\u001b[0m, in \u001b[0;36mMultiOutputClassifier.fit\u001b[1;34m(self, X, Y, sample_weight, **fit_params)\u001b[0m\n\u001b[0;32m    511\u001b[0m \u001b[38;5;28;01mdef\u001b[39;00m \u001b[38;5;21mfit\u001b[39m(\u001b[38;5;28mself\u001b[39m, X, Y, sample_weight\u001b[38;5;241m=\u001b[39m\u001b[38;5;28;01mNone\u001b[39;00m, \u001b[38;5;241m*\u001b[39m\u001b[38;5;241m*\u001b[39mfit_params):\n\u001b[0;32m    512\u001b[0m \u001b[38;5;250m    \u001b[39m\u001b[38;5;124;03m\"\"\"Fit the model to data matrix X and targets Y.\u001b[39;00m\n\u001b[0;32m    513\u001b[0m \n\u001b[0;32m    514\u001b[0m \u001b[38;5;124;03m    Parameters\u001b[39;00m\n\u001b[1;32m   (...)\u001b[0m\n\u001b[0;32m    535\u001b[0m \u001b[38;5;124;03m        Returns a fitted instance.\u001b[39;00m\n\u001b[0;32m    536\u001b[0m \u001b[38;5;124;03m    \"\"\"\u001b[39;00m\n\u001b[1;32m--> 537\u001b[0m     \u001b[38;5;28;43msuper\u001b[39;49m\u001b[43m(\u001b[49m\u001b[43m)\u001b[49m\u001b[38;5;241;43m.\u001b[39;49m\u001b[43mfit\u001b[49m\u001b[43m(\u001b[49m\u001b[43mX\u001b[49m\u001b[43m,\u001b[49m\u001b[43m \u001b[49m\u001b[43mY\u001b[49m\u001b[43m,\u001b[49m\u001b[43m \u001b[49m\u001b[43msample_weight\u001b[49m\u001b[38;5;241;43m=\u001b[39;49m\u001b[43msample_weight\u001b[49m\u001b[43m,\u001b[49m\u001b[43m \u001b[49m\u001b[38;5;241;43m*\u001b[39;49m\u001b[38;5;241;43m*\u001b[39;49m\u001b[43mfit_params\u001b[49m\u001b[43m)\u001b[49m\n\u001b[0;32m    538\u001b[0m     \u001b[38;5;28mself\u001b[39m\u001b[38;5;241m.\u001b[39mclasses_ \u001b[38;5;241m=\u001b[39m [estimator\u001b[38;5;241m.\u001b[39mclasses_ \u001b[38;5;28;01mfor\u001b[39;00m estimator \u001b[38;5;129;01min\u001b[39;00m \u001b[38;5;28mself\u001b[39m\u001b[38;5;241m.\u001b[39mestimators_]\n\u001b[0;32m    539\u001b[0m     \u001b[38;5;28;01mreturn\u001b[39;00m \u001b[38;5;28mself\u001b[39m\n",
      "File \u001b[1;32m~\\AppData\\Roaming\\Python\\Python312\\site-packages\\sklearn\\base.py:1474\u001b[0m, in \u001b[0;36m_fit_context.<locals>.decorator.<locals>.wrapper\u001b[1;34m(estimator, *args, **kwargs)\u001b[0m\n\u001b[0;32m   1467\u001b[0m     estimator\u001b[38;5;241m.\u001b[39m_validate_params()\n\u001b[0;32m   1469\u001b[0m \u001b[38;5;28;01mwith\u001b[39;00m config_context(\n\u001b[0;32m   1470\u001b[0m     skip_parameter_validation\u001b[38;5;241m=\u001b[39m(\n\u001b[0;32m   1471\u001b[0m         prefer_skip_nested_validation \u001b[38;5;129;01mor\u001b[39;00m global_skip_validation\n\u001b[0;32m   1472\u001b[0m     )\n\u001b[0;32m   1473\u001b[0m ):\n\u001b[1;32m-> 1474\u001b[0m     \u001b[38;5;28;01mreturn\u001b[39;00m \u001b[43mfit_method\u001b[49m\u001b[43m(\u001b[49m\u001b[43mestimator\u001b[49m\u001b[43m,\u001b[49m\u001b[43m \u001b[49m\u001b[38;5;241;43m*\u001b[39;49m\u001b[43margs\u001b[49m\u001b[43m,\u001b[49m\u001b[43m \u001b[49m\u001b[38;5;241;43m*\u001b[39;49m\u001b[38;5;241;43m*\u001b[39;49m\u001b[43mkwargs\u001b[49m\u001b[43m)\u001b[49m\n",
      "File \u001b[1;32m~\\AppData\\Roaming\\Python\\Python312\\site-packages\\sklearn\\multioutput.py:246\u001b[0m, in \u001b[0;36m_MultiOutputEstimator.fit\u001b[1;34m(self, X, y, sample_weight, **fit_params)\u001b[0m\n\u001b[0;32m    243\u001b[0m     check_classification_targets(y)\n\u001b[0;32m    245\u001b[0m \u001b[38;5;28;01mif\u001b[39;00m y\u001b[38;5;241m.\u001b[39mndim \u001b[38;5;241m==\u001b[39m \u001b[38;5;241m1\u001b[39m:\n\u001b[1;32m--> 246\u001b[0m     \u001b[38;5;28;01mraise\u001b[39;00m \u001b[38;5;167;01mValueError\u001b[39;00m(\n\u001b[0;32m    247\u001b[0m         \u001b[38;5;124m\"\u001b[39m\u001b[38;5;124my must have at least two dimensions for \u001b[39m\u001b[38;5;124m\"\u001b[39m\n\u001b[0;32m    248\u001b[0m         \u001b[38;5;124m\"\u001b[39m\u001b[38;5;124mmulti-output regression but has only one.\u001b[39m\u001b[38;5;124m\"\u001b[39m\n\u001b[0;32m    249\u001b[0m     )\n\u001b[0;32m    251\u001b[0m \u001b[38;5;28;01mif\u001b[39;00m _routing_enabled():\n\u001b[0;32m    252\u001b[0m     \u001b[38;5;28;01mif\u001b[39;00m sample_weight \u001b[38;5;129;01mis\u001b[39;00m \u001b[38;5;129;01mnot\u001b[39;00m \u001b[38;5;28;01mNone\u001b[39;00m:\n",
      "\u001b[1;31mValueError\u001b[0m: y must have at least two dimensions for multi-output regression but has only one."
     ]
    }
   ],
   "source": [
    "# Fit the model on the original data\n",
    "multi_target_nb.fit(trainX_flat, trainY)\n",
    "\n",
    "# Predict on the test set\n",
    "y_pred = multi_target_nb.predict(testX_flat)\n",
    "\n",
    "# Evaluate the model\n",
    "print(\"Classification Report for original data:\")\n",
    "print(classification_report(testY, y_pred))"
   ]
  },
  {
   "cell_type": "markdown",
   "metadata": {},
   "source": [
    "#### Processed data"
   ]
  },
  {
   "cell_type": "code",
   "execution_count": 30,
   "metadata": {},
   "outputs": [
    {
     "ename": "ValueError",
     "evalue": "y must have at least two dimensions for multi-output regression but has only one.",
     "output_type": "error",
     "traceback": [
      "\u001b[1;31m---------------------------------------------------------------------------\u001b[0m",
      "\u001b[1;31mValueError\u001b[0m                                Traceback (most recent call last)",
      "Cell \u001b[1;32mIn[30], line 2\u001b[0m\n\u001b[0;32m      1\u001b[0m \u001b[38;5;66;03m# Fit the model on the PCA-transformed data\u001b[39;00m\n\u001b[1;32m----> 2\u001b[0m \u001b[43mmulti_target_nb\u001b[49m\u001b[38;5;241;43m.\u001b[39;49m\u001b[43mfit\u001b[49m\u001b[43m(\u001b[49m\u001b[43mtrainX_processed\u001b[49m\u001b[43m,\u001b[49m\u001b[43m \u001b[49m\u001b[43mtrainY\u001b[49m\u001b[43m)\u001b[49m\n\u001b[0;32m      4\u001b[0m \u001b[38;5;66;03m# Predict on the PCA test set\u001b[39;00m\n\u001b[0;32m      5\u001b[0m y_pred_pca \u001b[38;5;241m=\u001b[39m multi_target_nb\u001b[38;5;241m.\u001b[39mpredict(testX_processed)\n",
      "File \u001b[1;32m~\\AppData\\Roaming\\Python\\Python312\\site-packages\\sklearn\\multioutput.py:537\u001b[0m, in \u001b[0;36mMultiOutputClassifier.fit\u001b[1;34m(self, X, Y, sample_weight, **fit_params)\u001b[0m\n\u001b[0;32m    511\u001b[0m \u001b[38;5;28;01mdef\u001b[39;00m \u001b[38;5;21mfit\u001b[39m(\u001b[38;5;28mself\u001b[39m, X, Y, sample_weight\u001b[38;5;241m=\u001b[39m\u001b[38;5;28;01mNone\u001b[39;00m, \u001b[38;5;241m*\u001b[39m\u001b[38;5;241m*\u001b[39mfit_params):\n\u001b[0;32m    512\u001b[0m \u001b[38;5;250m    \u001b[39m\u001b[38;5;124;03m\"\"\"Fit the model to data matrix X and targets Y.\u001b[39;00m\n\u001b[0;32m    513\u001b[0m \n\u001b[0;32m    514\u001b[0m \u001b[38;5;124;03m    Parameters\u001b[39;00m\n\u001b[1;32m   (...)\u001b[0m\n\u001b[0;32m    535\u001b[0m \u001b[38;5;124;03m        Returns a fitted instance.\u001b[39;00m\n\u001b[0;32m    536\u001b[0m \u001b[38;5;124;03m    \"\"\"\u001b[39;00m\n\u001b[1;32m--> 537\u001b[0m     \u001b[38;5;28;43msuper\u001b[39;49m\u001b[43m(\u001b[49m\u001b[43m)\u001b[49m\u001b[38;5;241;43m.\u001b[39;49m\u001b[43mfit\u001b[49m\u001b[43m(\u001b[49m\u001b[43mX\u001b[49m\u001b[43m,\u001b[49m\u001b[43m \u001b[49m\u001b[43mY\u001b[49m\u001b[43m,\u001b[49m\u001b[43m \u001b[49m\u001b[43msample_weight\u001b[49m\u001b[38;5;241;43m=\u001b[39;49m\u001b[43msample_weight\u001b[49m\u001b[43m,\u001b[49m\u001b[43m \u001b[49m\u001b[38;5;241;43m*\u001b[39;49m\u001b[38;5;241;43m*\u001b[39;49m\u001b[43mfit_params\u001b[49m\u001b[43m)\u001b[49m\n\u001b[0;32m    538\u001b[0m     \u001b[38;5;28mself\u001b[39m\u001b[38;5;241m.\u001b[39mclasses_ \u001b[38;5;241m=\u001b[39m [estimator\u001b[38;5;241m.\u001b[39mclasses_ \u001b[38;5;28;01mfor\u001b[39;00m estimator \u001b[38;5;129;01min\u001b[39;00m \u001b[38;5;28mself\u001b[39m\u001b[38;5;241m.\u001b[39mestimators_]\n\u001b[0;32m    539\u001b[0m     \u001b[38;5;28;01mreturn\u001b[39;00m \u001b[38;5;28mself\u001b[39m\n",
      "File \u001b[1;32m~\\AppData\\Roaming\\Python\\Python312\\site-packages\\sklearn\\base.py:1474\u001b[0m, in \u001b[0;36m_fit_context.<locals>.decorator.<locals>.wrapper\u001b[1;34m(estimator, *args, **kwargs)\u001b[0m\n\u001b[0;32m   1467\u001b[0m     estimator\u001b[38;5;241m.\u001b[39m_validate_params()\n\u001b[0;32m   1469\u001b[0m \u001b[38;5;28;01mwith\u001b[39;00m config_context(\n\u001b[0;32m   1470\u001b[0m     skip_parameter_validation\u001b[38;5;241m=\u001b[39m(\n\u001b[0;32m   1471\u001b[0m         prefer_skip_nested_validation \u001b[38;5;129;01mor\u001b[39;00m global_skip_validation\n\u001b[0;32m   1472\u001b[0m     )\n\u001b[0;32m   1473\u001b[0m ):\n\u001b[1;32m-> 1474\u001b[0m     \u001b[38;5;28;01mreturn\u001b[39;00m \u001b[43mfit_method\u001b[49m\u001b[43m(\u001b[49m\u001b[43mestimator\u001b[49m\u001b[43m,\u001b[49m\u001b[43m \u001b[49m\u001b[38;5;241;43m*\u001b[39;49m\u001b[43margs\u001b[49m\u001b[43m,\u001b[49m\u001b[43m \u001b[49m\u001b[38;5;241;43m*\u001b[39;49m\u001b[38;5;241;43m*\u001b[39;49m\u001b[43mkwargs\u001b[49m\u001b[43m)\u001b[49m\n",
      "File \u001b[1;32m~\\AppData\\Roaming\\Python\\Python312\\site-packages\\sklearn\\multioutput.py:246\u001b[0m, in \u001b[0;36m_MultiOutputEstimator.fit\u001b[1;34m(self, X, y, sample_weight, **fit_params)\u001b[0m\n\u001b[0;32m    243\u001b[0m     check_classification_targets(y)\n\u001b[0;32m    245\u001b[0m \u001b[38;5;28;01mif\u001b[39;00m y\u001b[38;5;241m.\u001b[39mndim \u001b[38;5;241m==\u001b[39m \u001b[38;5;241m1\u001b[39m:\n\u001b[1;32m--> 246\u001b[0m     \u001b[38;5;28;01mraise\u001b[39;00m \u001b[38;5;167;01mValueError\u001b[39;00m(\n\u001b[0;32m    247\u001b[0m         \u001b[38;5;124m\"\u001b[39m\u001b[38;5;124my must have at least two dimensions for \u001b[39m\u001b[38;5;124m\"\u001b[39m\n\u001b[0;32m    248\u001b[0m         \u001b[38;5;124m\"\u001b[39m\u001b[38;5;124mmulti-output regression but has only one.\u001b[39m\u001b[38;5;124m\"\u001b[39m\n\u001b[0;32m    249\u001b[0m     )\n\u001b[0;32m    251\u001b[0m \u001b[38;5;28;01mif\u001b[39;00m _routing_enabled():\n\u001b[0;32m    252\u001b[0m     \u001b[38;5;28;01mif\u001b[39;00m sample_weight \u001b[38;5;129;01mis\u001b[39;00m \u001b[38;5;129;01mnot\u001b[39;00m \u001b[38;5;28;01mNone\u001b[39;00m:\n",
      "\u001b[1;31mValueError\u001b[0m: y must have at least two dimensions for multi-output regression but has only one."
     ]
    }
   ],
   "source": [
    "# Fit the model on the PCA-transformed data\n",
    "multi_target_nb.fit(trainX_processed, trainY)\n",
    "\n",
    "# Predict on the PCA test set\n",
    "y_pred_pca = multi_target_nb.predict(testX_processed)\n",
    "\n",
    "# Evaluate the model with PCA data\n",
    "print(\"\\nClassification Report for PCA-transformed data:\")\n",
    "print(classification_report(testY, y_pred_pca))"
   ]
  },
  {
   "cell_type": "markdown",
   "metadata": {},
   "source": [
    "### **Decision Tree**"
   ]
  },
  {
   "cell_type": "code",
   "execution_count": 31,
   "metadata": {},
   "outputs": [],
   "source": [
    "from sklearn.tree import DecisionTreeClassifier\n",
    "from sklearn.metrics import classification_report\n",
    "\n",
    "\n",
    "model = DecisionTreeClassifier(max_depth=15, random_state=42)"
   ]
  },
  {
   "cell_type": "markdown",
   "metadata": {},
   "source": [
    "#### Original data"
   ]
  },
  {
   "cell_type": "code",
   "execution_count": 32,
   "metadata": {},
   "outputs": [
    {
     "name": "stdout",
     "output_type": "stream",
     "text": [
      "              precision    recall  f1-score   support\n",
      "\n",
      "           0       0.24      0.21      0.22       985\n",
      "           1       0.18      0.12      0.14       102\n",
      "           2       0.24      0.24      0.24      1043\n",
      "           3       0.41      0.43      0.42      1765\n",
      "           4       0.26      0.28      0.27      1210\n",
      "           5       0.42      0.38      0.40       795\n",
      "           6       0.27      0.28      0.28      1278\n",
      "\n",
      "    accuracy                           0.31      7178\n",
      "   macro avg       0.29      0.28      0.28      7178\n",
      "weighted avg       0.31      0.31      0.31      7178\n",
      "\n"
     ]
    }
   ],
   "source": [
    "# Fit the model on the original data\n",
    "model.fit(trainX_flat, trainY)\n",
    "\n",
    "# Predict on the test set\n",
    "y_pred = model.predict(testX_flat)\n",
    "\n",
    "# Evaluate the model\n",
    "print(classification_report(testY, y_pred))"
   ]
  },
  {
   "cell_type": "markdown",
   "metadata": {},
   "source": [
    "#### Processed data"
   ]
  },
  {
   "cell_type": "code",
   "execution_count": 33,
   "metadata": {},
   "outputs": [
    {
     "name": "stdout",
     "output_type": "stream",
     "text": [
      "              precision    recall  f1-score   support\n",
      "\n",
      "           0       0.25      0.21      0.23       985\n",
      "           1       0.33      0.24      0.28       102\n",
      "           2       0.27      0.23      0.25      1043\n",
      "           3       0.33      0.48      0.39      1765\n",
      "           4       0.25      0.22      0.24      1210\n",
      "           5       0.39      0.31      0.34       795\n",
      "           6       0.28      0.24      0.26      1278\n",
      "\n",
      "    accuracy                           0.30      7178\n",
      "   macro avg       0.30      0.28      0.28      7178\n",
      "weighted avg       0.29      0.30      0.29      7178\n",
      "\n"
     ]
    }
   ],
   "source": [
    "# Fit the model on the processed data\n",
    "model.fit(trainX_processed, trainY)\n",
    "\n",
    "# Predict on the processed test set\n",
    "y_pred_pca = model.predict(testX_processed)\n",
    "\n",
    "# Evaluate the model with PCA data\n",
    "print(classification_report(testY, y_pred_pca))"
   ]
  },
  {
   "cell_type": "markdown",
   "metadata": {},
   "source": [
    "### **GridSearchCV**"
   ]
  },
  {
   "cell_type": "markdown",
   "metadata": {},
   "source": [
    "- Because the datasets are quite large, we will use a **subset** of the training data for each model.\n",
    "- We will also use `RandomizedSearchCV` instead of `GridSearchCV` to limit the range and number of hyperparameters we are tuning. **RandomizedSearchCV** is an alternative to GridSearchCV that samples a fixed number of hyperparameter combinations from a specified distribution.\n",
    "- Parallelize the Process"
   ]
  },
  {
   "cell_type": "code",
   "execution_count": 44,
   "metadata": {},
   "outputs": [],
   "source": [
    "import pandas as pd\n",
    "import numpy as np\n",
    "from matplotlib import pyplot as plt\n",
    "from sklearn.decomposition import PCA\n",
    "from sklearn.preprocessing import MinMaxScaler\n",
    "from sklearn.model_selection import train_test_split, RandomizedSearchCV\n",
    "from sklearn.neural_network import MLPClassifier\n",
    "from sklearn.svm import SVC\n",
    "from sklearn.linear_model import LogisticRegression\n",
    "from sklearn.ensemble import RandomForestClassifier\n",
    "from sklearn.tree import DecisionTreeClassifier\n",
    "from sklearn.metrics import classification_report\n",
    "\n",
    "# Use a subset of the training data for hyperparameter tuning\n",
    "subset_size = 5000  # Adjust this as needed\n",
    "trainX_subset = trainX_flat[:subset_size]\n",
    "trainY_subset = trainY[:subset_size]\n",
    "\n",
    "trainX_processed_subset = trainX_processed[:subset_size]\n",
    "trainY_processed_subset = trainY[:subset_size]\n",
    "\n",
    "# Define parameter grids\n",
    "mlp_param_grid = {\n",
    "    'hidden_layer_sizes': [(50,50,50), (50,100,50), (100,)],\n",
    "    'activation': ['tanh', 'relu'],\n",
    "    'solver': ['sgd', 'adam'],\n",
    "    'alpha': np.logspace(-4, -1, 10),\n",
    "    'learning_rate': ['constant','adaptive'],\n",
    "}\n",
    "\n",
    "logistic_param_grid = {\n",
    "    'C': np.logspace(-4, 4, 20),\n",
    "    'penalty': ['l2'],\n",
    "    'solver': ['liblinear', 'saga']\n",
    "}\n",
    "\n",
    "svm_param_grid = {\n",
    "    'C': np.logspace(-2, 1, 10),\n",
    "    'gamma': np.logspace(-3, 0, 10),\n",
    "    'kernel': ['rbf', 'poly', 'sigmoid'],\n",
    "}\n",
    "\n",
    "rf_param_grid = {\n",
    "    'n_estimators': [100, 200, 300, 400, 500],\n",
    "    'max_features': ['auto', 'sqrt', 'log2'],\n",
    "    'max_depth': [None, 10, 20, 30, 40, 50],\n",
    "    'min_samples_split': [2, 5, 10],\n",
    "    'min_samples_leaf': [1, 2, 4],\n",
    "}\n",
    "\n",
    "dt_param_grid = {\n",
    "    'criterion': ['gini', 'entropy'],\n",
    "    'splitter': ['best', 'random'],\n",
    "    'max_depth': [None, 10, 20, 30, 40, 50],\n",
    "    'min_samples_split': [2, 5, 10],\n",
    "    'min_samples_leaf': [1, 2, 4],\n",
    "}\n",
    "\n"
   ]
  },
  {
   "cell_type": "markdown",
   "metadata": {},
   "source": [
    "#### **Apply RandomizedSearchCV for MLP**"
   ]
  },
  {
   "cell_type": "code",
   "execution_count": 36,
   "metadata": {},
   "outputs": [],
   "source": [
    "from sklearn.neural_network import MLPClassifier\n",
    "\n",
    "# Apply RandomizedSearchCV for MLP\n",
    "mlp = MLPClassifier(max_iter=100)\n",
    "mlp_random_search = RandomizedSearchCV(mlp, mlp_param_grid, n_iter=20, cv=3, verbose=2, n_jobs=-1, random_state=42)"
   ]
  },
  {
   "cell_type": "markdown",
   "metadata": {},
   "source": [
    "##### Original data"
   ]
  },
  {
   "cell_type": "code",
   "execution_count": 37,
   "metadata": {},
   "outputs": [
    {
     "name": "stdout",
     "output_type": "stream",
     "text": [
      "Fitting 3 folds for each of 20 candidates, totalling 60 fits\n",
      "Best parameters for MLP: {'solver': 'sgd', 'learning_rate': 'constant', 'hidden_layer_sizes': (100,), 'alpha': 0.046415888336127774, 'activation': 'tanh'}\n",
      "MLP on original data after RandomizedSearchCV\n",
      "              precision    recall  f1-score   support\n",
      "\n",
      "           0       0.27      0.12      0.16       985\n",
      "           1       0.00      0.00      0.00       102\n",
      "           2       0.22      0.19      0.20      1043\n",
      "           3       0.43      0.65      0.52      1765\n",
      "           4       0.30      0.26      0.28      1210\n",
      "           5       0.41      0.47      0.44       795\n",
      "           6       0.33      0.32      0.33      1278\n",
      "\n",
      "    accuracy                           0.36      7178\n",
      "   macro avg       0.28      0.29      0.28      7178\n",
      "weighted avg       0.33      0.36      0.33      7178\n",
      "\n"
     ]
    },
    {
     "name": "stderr",
     "output_type": "stream",
     "text": [
      "C:\\Users\\ADMIN\\AppData\\Roaming\\Python\\Python312\\site-packages\\sklearn\\neural_network\\_multilayer_perceptron.py:691: ConvergenceWarning: Stochastic Optimizer: Maximum iterations (100) reached and the optimization hasn't converged yet.\n",
      "  warnings.warn(\n",
      "C:\\Users\\ADMIN\\AppData\\Roaming\\Python\\Python312\\site-packages\\sklearn\\metrics\\_classification.py:1509: UndefinedMetricWarning: Precision is ill-defined and being set to 0.0 in labels with no predicted samples. Use `zero_division` parameter to control this behavior.\n",
      "  _warn_prf(average, modifier, f\"{metric.capitalize()} is\", len(result))\n",
      "C:\\Users\\ADMIN\\AppData\\Roaming\\Python\\Python312\\site-packages\\sklearn\\metrics\\_classification.py:1509: UndefinedMetricWarning: Precision is ill-defined and being set to 0.0 in labels with no predicted samples. Use `zero_division` parameter to control this behavior.\n",
      "  _warn_prf(average, modifier, f\"{metric.capitalize()} is\", len(result))\n",
      "C:\\Users\\ADMIN\\AppData\\Roaming\\Python\\Python312\\site-packages\\sklearn\\metrics\\_classification.py:1509: UndefinedMetricWarning: Precision is ill-defined and being set to 0.0 in labels with no predicted samples. Use `zero_division` parameter to control this behavior.\n",
      "  _warn_prf(average, modifier, f\"{metric.capitalize()} is\", len(result))\n"
     ]
    }
   ],
   "source": [
    "\n",
    "mlp_random_search.fit(trainX_subset, trainY_subset)\n",
    "print(\"Best parameters for MLP:\", mlp_random_search.best_params_)\n",
    "y_pred = mlp_random_search.predict(testX_flat)\n",
    "print(\"MLP on original data after RandomizedSearchCV\")\n",
    "print(classification_report(testY, y_pred))"
   ]
  },
  {
   "cell_type": "markdown",
   "metadata": {},
   "source": [
    "##### Processed data"
   ]
  },
  {
   "cell_type": "code",
   "execution_count": 38,
   "metadata": {},
   "outputs": [
    {
     "name": "stdout",
     "output_type": "stream",
     "text": [
      "Fitting 3 folds for each of 20 candidates, totalling 60 fits\n",
      "Best parameters for MLP on PCA-processed data: {'solver': 'sgd', 'learning_rate': 'constant', 'hidden_layer_sizes': (100,), 'alpha': 0.046415888336127774, 'activation': 'tanh'}\n",
      "MLP on PCA-processed data after RandomizedSearchCV\n",
      "              precision    recall  f1-score   support\n",
      "\n",
      "           0       0.25      0.07      0.10       985\n",
      "           1       0.00      0.00      0.00       102\n",
      "           2       0.18      0.09      0.12      1043\n",
      "           3       0.29      0.66      0.40      1765\n",
      "           4       0.27      0.22      0.24      1210\n",
      "           5       0.27      0.16      0.20       795\n",
      "           6       0.29      0.22      0.25      1278\n",
      "\n",
      "    accuracy                           0.28      7178\n",
      "   macro avg       0.22      0.20      0.19      7178\n",
      "weighted avg       0.26      0.28      0.24      7178\n",
      "\n"
     ]
    },
    {
     "name": "stderr",
     "output_type": "stream",
     "text": [
      "C:\\Users\\ADMIN\\AppData\\Roaming\\Python\\Python312\\site-packages\\sklearn\\neural_network\\_multilayer_perceptron.py:691: ConvergenceWarning: Stochastic Optimizer: Maximum iterations (100) reached and the optimization hasn't converged yet.\n",
      "  warnings.warn(\n",
      "C:\\Users\\ADMIN\\AppData\\Roaming\\Python\\Python312\\site-packages\\sklearn\\metrics\\_classification.py:1509: UndefinedMetricWarning: Precision is ill-defined and being set to 0.0 in labels with no predicted samples. Use `zero_division` parameter to control this behavior.\n",
      "  _warn_prf(average, modifier, f\"{metric.capitalize()} is\", len(result))\n",
      "C:\\Users\\ADMIN\\AppData\\Roaming\\Python\\Python312\\site-packages\\sklearn\\metrics\\_classification.py:1509: UndefinedMetricWarning: Precision is ill-defined and being set to 0.0 in labels with no predicted samples. Use `zero_division` parameter to control this behavior.\n",
      "  _warn_prf(average, modifier, f\"{metric.capitalize()} is\", len(result))\n",
      "C:\\Users\\ADMIN\\AppData\\Roaming\\Python\\Python312\\site-packages\\sklearn\\metrics\\_classification.py:1509: UndefinedMetricWarning: Precision is ill-defined and being set to 0.0 in labels with no predicted samples. Use `zero_division` parameter to control this behavior.\n",
      "  _warn_prf(average, modifier, f\"{metric.capitalize()} is\", len(result))\n"
     ]
    }
   ],
   "source": [
    "# Apply RandomizedSearchCV for MLP on PCA-processed data\n",
    "mlp_random_search.fit(trainX_processed_subset, trainY_processed_subset)\n",
    "print(\"Best parameters for MLP on PCA-processed data:\", mlp_random_search.best_params_)\n",
    "y_pred = mlp_random_search.predict(testX_processed)\n",
    "print(\"MLP on PCA-processed data after RandomizedSearchCV\")\n",
    "print(classification_report(testY, y_pred))"
   ]
  },
  {
   "cell_type": "markdown",
   "metadata": {},
   "source": [
    "#### **Apply RandomizedSearchCV for Logistic Regression**"
   ]
  },
  {
   "cell_type": "code",
   "execution_count": 45,
   "metadata": {},
   "outputs": [],
   "source": [
    "# Apply RandomizedSearchCV for Logistic Regression\n",
    "logistic = LogisticRegression(max_iter=200)\n",
    "logistic_random_search = RandomizedSearchCV(logistic, logistic_param_grid, n_iter=20, cv=3, verbose=2, n_jobs=-1, random_state=42)"
   ]
  },
  {
   "cell_type": "markdown",
   "metadata": {},
   "source": [
    "##### Original data"
   ]
  },
  {
   "cell_type": "code",
   "execution_count": 46,
   "metadata": {},
   "outputs": [
    {
     "name": "stdout",
     "output_type": "stream",
     "text": [
      "Fitting 3 folds for each of 20 candidates, totalling 60 fits\n",
      "Best parameters for Logistic Regression: {'solver': 'saga', 'penalty': 'l2', 'C': 0.03359818286283781}\n",
      "Logistic Regression on original data after RandomizedSearchCV\n",
      "              precision    recall  f1-score   support\n",
      "\n",
      "           0       0.26      0.13      0.18       985\n",
      "           1       0.00      0.00      0.00       102\n",
      "           2       0.24      0.15      0.18      1043\n",
      "           3       0.41      0.67      0.51      1765\n",
      "           4       0.27      0.29      0.28      1210\n",
      "           5       0.46      0.42      0.44       795\n",
      "           6       0.32      0.29      0.31      1278\n",
      "\n",
      "    accuracy                           0.35      7178\n",
      "   macro avg       0.28      0.28      0.27      7178\n",
      "weighted avg       0.33      0.35      0.33      7178\n",
      "\n"
     ]
    },
    {
     "name": "stderr",
     "output_type": "stream",
     "text": [
      "C:\\Users\\ADMIN\\AppData\\Roaming\\Python\\Python312\\site-packages\\sklearn\\linear_model\\_sag.py:350: ConvergenceWarning: The max_iter was reached which means the coef_ did not converge\n",
      "  warnings.warn(\n"
     ]
    }
   ],
   "source": [
    "logistic_random_search.fit(trainX_subset, trainY_subset)\n",
    "print(\"Best parameters for Logistic Regression:\", logistic_random_search.best_params_)\n",
    "y_pred = logistic_random_search.predict(testX_flat)\n",
    "print(\"Logistic Regression on original data after RandomizedSearchCV\")\n",
    "print(classification_report(testY, y_pred))"
   ]
  },
  {
   "cell_type": "markdown",
   "metadata": {},
   "source": [
    "##### Processed data"
   ]
  },
  {
   "cell_type": "code",
   "execution_count": 47,
   "metadata": {},
   "outputs": [
    {
     "name": "stdout",
     "output_type": "stream",
     "text": [
      "Fitting 3 folds for each of 20 candidates, totalling 60 fits\n",
      "Best parameters for Logistic Regression on PCA-processed data: {'solver': 'saga', 'penalty': 'l2', 'C': 0.004832930238571752}\n",
      "Logistic Regression on PCA-processed data after RandomizedSearchCV\n",
      "              precision    recall  f1-score   support\n",
      "\n",
      "           0       0.18      0.03      0.05       985\n",
      "           1       0.00      0.00      0.00       102\n",
      "           2       0.15      0.03      0.05      1043\n",
      "           3       0.28      0.76      0.41      1765\n",
      "           4       0.27      0.21      0.24      1210\n",
      "           5       0.33      0.15      0.21       795\n",
      "           6       0.30      0.17      0.22      1278\n",
      "\n",
      "    accuracy                           0.28      7178\n",
      "   macro avg       0.22      0.19      0.17      7178\n",
      "weighted avg       0.25      0.28      0.22      7178\n",
      "\n"
     ]
    },
    {
     "name": "stderr",
     "output_type": "stream",
     "text": [
      "C:\\Users\\ADMIN\\AppData\\Roaming\\Python\\Python312\\site-packages\\sklearn\\metrics\\_classification.py:1509: UndefinedMetricWarning: Precision is ill-defined and being set to 0.0 in labels with no predicted samples. Use `zero_division` parameter to control this behavior.\n",
      "  _warn_prf(average, modifier, f\"{metric.capitalize()} is\", len(result))\n",
      "C:\\Users\\ADMIN\\AppData\\Roaming\\Python\\Python312\\site-packages\\sklearn\\metrics\\_classification.py:1509: UndefinedMetricWarning: Precision is ill-defined and being set to 0.0 in labels with no predicted samples. Use `zero_division` parameter to control this behavior.\n",
      "  _warn_prf(average, modifier, f\"{metric.capitalize()} is\", len(result))\n",
      "C:\\Users\\ADMIN\\AppData\\Roaming\\Python\\Python312\\site-packages\\sklearn\\metrics\\_classification.py:1509: UndefinedMetricWarning: Precision is ill-defined and being set to 0.0 in labels with no predicted samples. Use `zero_division` parameter to control this behavior.\n",
      "  _warn_prf(average, modifier, f\"{metric.capitalize()} is\", len(result))\n"
     ]
    }
   ],
   "source": [
    "# Apply RandomizedSearchCV for Logistic Regression on PCA-processed data\n",
    "logistic_random_search.fit(trainX_processed_subset, trainY_processed_subset)\n",
    "print(\"Best parameters for Logistic Regression on PCA-processed data:\", logistic_random_search.best_params_)\n",
    "y_pred = logistic_random_search.predict(testX_processed)\n",
    "print(\"Logistic Regression on PCA-processed data after RandomizedSearchCV\")\n",
    "print(classification_report(testY, y_pred))"
   ]
  },
  {
   "cell_type": "markdown",
   "metadata": {},
   "source": [
    "#### **Apply RandomizedSearchCV for SVM**"
   ]
  },
  {
   "cell_type": "markdown",
   "metadata": {},
   "source": [
    "##### Original data"
   ]
  },
  {
   "cell_type": "code",
   "execution_count": null,
   "metadata": {},
   "outputs": [],
   "source": [
    "svm = SVC()\n",
    "svm_random_search = RandomizedSearchCV(svm, svm_param_grid, n_iter=20, cv=3, verbose=2, n_jobs=-1, random_state=42)\n",
    "svm_random_search.fit(trainX_subset, trainY_subset)\n",
    "print(\"Best parameters for SVM:\", svm_random_search.best_params_)\n",
    "y_pred = svm_random_search.predict(testX_flat)\n",
    "print(\"SVM on original data after RandomizedSearchCV\")\n",
    "print(classification_report(testY, y_pred))"
   ]
  },
  {
   "cell_type": "markdown",
   "metadata": {},
   "source": [
    "##### Processed data"
   ]
  },
  {
   "cell_type": "code",
   "execution_count": null,
   "metadata": {},
   "outputs": [],
   "source": [
    "# Apply RandomizedSearchCV for SVM on PCA-processed data\n",
    "svm_random_search.fit(trainX_processed_subset, trainY_processed_subset)\n",
    "print(\"Best parameters for SVM on PCA-processed data:\", svm_random_search.best_params_)\n",
    "y_pred = svm_random_search.predict(testX_processed)\n",
    "print(\"SVM on PCA-processed data after RandomizedSearchCV\")\n",
    "print(classification_report(testY, y_pred))"
   ]
  },
  {
   "cell_type": "markdown",
   "metadata": {},
   "source": [
    "#### **Apply RandomizedSearchCV for Random Forest**"
   ]
  },
  {
   "cell_type": "code",
   "execution_count": null,
   "metadata": {},
   "outputs": [],
   "source": [
    "# Apply RandomizedSearchCV for Random Forest\n",
    "rf = RandomForestClassifier()\n",
    "rf_random_search = RandomizedSearchCV(rf, rf_param_grid, n_iter=20, cv=3, verbose=2, n_jobs=-1, random_state=42)"
   ]
  },
  {
   "cell_type": "markdown",
   "metadata": {},
   "source": [
    "##### Original data"
   ]
  },
  {
   "cell_type": "code",
   "execution_count": null,
   "metadata": {},
   "outputs": [],
   "source": [
    "rf_random_search.fit(trainX_subset, trainY_subset)\n",
    "print(\"Best parameters for Random Forest:\", rf_random_search.best_params_)\n",
    "y_pred = rf_random_search.predict(testX_flat)\n",
    "print(\"Random Forest on original data after RandomizedSearchCV\")\n",
    "print(classification_report(testY, y_pred))"
   ]
  },
  {
   "cell_type": "markdown",
   "metadata": {},
   "source": [
    "##### Processed data"
   ]
  },
  {
   "cell_type": "code",
   "execution_count": null,
   "metadata": {},
   "outputs": [],
   "source": [
    "# Apply RandomizedSearchCV for Random Forest on PCA-processed data\n",
    "rf_random_search.fit(trainX_processed_subset, trainY_processed_subset)\n",
    "print(\"Best parameters for Random Forest on PCA-processed data:\", rf_random_search.best_params_)\n",
    "y_pred = rf_random_search.predict(testX_processed)\n",
    "print(\"Random Forest on PCA-processed data after RandomizedSearchCV\")\n",
    "print(classification_report(testY, y_pred))"
   ]
  },
  {
   "cell_type": "markdown",
   "metadata": {},
   "source": [
    "#### **Apply RandomizedSearchCV for Decision Tree**"
   ]
  },
  {
   "cell_type": "code",
   "execution_count": null,
   "metadata": {},
   "outputs": [],
   "source": [
    "# Apply RandomizedSearchCV for Decision Tree\n",
    "dt = DecisionTreeClassifier()\n",
    "dt_random_search = RandomizedSearchCV(dt, dt_param_grid, n_iter=20, cv=3, verbose=2, n_jobs=-1, random_state=42)"
   ]
  },
  {
   "cell_type": "markdown",
   "metadata": {},
   "source": [
    "##### Original data"
   ]
  },
  {
   "cell_type": "code",
   "execution_count": null,
   "metadata": {},
   "outputs": [],
   "source": [
    "dt_random_search.fit(trainX_subset, trainY_subset)\n",
    "print(\"Best parameters for Decision Tree:\", dt_random_search.best_params_)\n",
    "y_pred = dt_random_search.predict(testX_flat)\n",
    "print(\"Decision Tree on original data after RandomizedSearchCV\")\n",
    "print(classification_report(testY, y_pred))"
   ]
  },
  {
   "cell_type": "markdown",
   "metadata": {},
   "source": [
    "##### Processed data"
   ]
  },
  {
   "cell_type": "code",
   "execution_count": null,
   "metadata": {},
   "outputs": [],
   "source": [
    "# Apply RandomizedSearchCV for Decision Tree on PCA-processed data\n",
    "dt_random_search.fit(trainX_processed_subset, trainY_processed_subset)\n",
    "print(\"Best parameters for Decision Tree on PCA-processed data:\", dt_random_search.best_params_)\n",
    "y_pred = dt_random_search.predict(testX_processed)\n",
    "print(\"Decision Tree on PCA-processed data after RandomizedSearchCV\")\n",
    "print(classification_report(testY, y_pred))"
   ]
  },
  {
   "cell_type": "markdown",
   "metadata": {},
   "source": [
    "## 4. Evaluating Classification Performance\n",
    "\n",
    "Compare the performance of the different classification models using various metrics: accuracy, precision, recall, and F1-score.\n",
    "Based on the evaluation metrics, explain which model performs best and why. Identify the emotion category where the model makes the most accurate and most errors. (1 point)\n",
    "\n"
   ]
  },
  {
   "cell_type": "code",
   "execution_count": 18,
   "metadata": {},
   "outputs": [],
   "source": [
    "## visualize the confusion matrices and classification reports here"
   ]
  }
 ],
 "metadata": {
  "kernelspec": {
   "display_name": "Python 3",
   "language": "python",
   "name": "python3"
  },
  "language_info": {
   "codemirror_mode": {
    "name": "ipython",
    "version": 3
   },
   "file_extension": ".py",
   "mimetype": "text/x-python",
   "name": "python",
   "nbconvert_exporter": "python",
   "pygments_lexer": "ipython3",
   "version": "3.12.2"
  }
 },
 "nbformat": 4,
 "nbformat_minor": 2
}
